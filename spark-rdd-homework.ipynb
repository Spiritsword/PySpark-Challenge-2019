{
 "cells": [
  {
   "cell_type": "markdown",
   "metadata": {},
   "source": [
    "# HackerNews data analysis challenge with Spark"
   ]
  },
  {
   "cell_type": "markdown",
   "metadata": {},
   "source": [
    "In this notebook, you will analyse a dataset of (almost) all submitted HackerNews posts with Spark. \n",
    "\n",
    "The notebook is a convenient way to explore your data, but you will be asked to implement corresponding functions in the `spark_rdd.py` file that will be submitted to KATE. Having standalone functions is a good way to automate reporting of the different metrics we will look at in a prouction environment.\n",
    "\n",
    "Let's start by importing some of the libraries you will need."
   ]
  },
  {
   "cell_type": "code",
   "execution_count": 4,
   "metadata": {},
   "outputs": [
    {
     "name": "stdout",
     "output_type": "stream",
     "text": [
      "<SparkContext master=local[*] appName=pyspark-shell>\n",
      "Ready to go!\n"
     ]
    }
   ],
   "source": [
    "import findspark\n",
    "findspark.init()\n",
    "import json\n",
    "import numpy as np\n",
    "import matplotlib.pyplot as plt\n",
    "from datetime import datetime as dt\n",
    "from pyspark import SparkContext\n",
    "from functools import reduce\n",
    "\n",
    "sc = SparkContext.getOrCreate()\n",
    "print(sc)\n",
    "print(\"Ready to go!\")\n",
    "%matplotlib inline"
   ]
  },
  {
   "cell_type": "markdown",
   "metadata": {},
   "source": [
    "The file has one JSON entry per line. In order to make accessing it easier, first turn each entry as a dictionary and use `persist()` to cache the resulting RDD. \n",
    "\n",
    "Remember to download the dataset (instructions in `Readme.md`)"
   ]
  },
  {
   "cell_type": "code",
   "execution_count": 5,
   "metadata": {},
   "outputs": [
    {
     "data": {
      "text/plain": [
       "PythonRDD[2] at RDD at PythonRDD.scala:53"
      ]
     },
     "execution_count": 5,
     "metadata": {},
     "output_type": "execute_result"
    }
   ],
   "source": [
    "dataset_json = sc.textFile(\"data/HNStories.json\")\n",
    "dataset = dataset_json.map(lambda x: json.loads(x))\n",
    "dataset.persist()"
   ]
  },
  {
   "cell_type": "markdown",
   "metadata": {},
   "source": [
    "Finally, Spark has many helper functions on top of the ones we have studied which you will find useful. You can view them at [http://spark.apache.org/docs/latest/api/python/pyspark.html#pyspark.RDD](http://spark.apache.org/docs/latest/api/python/pyspark.html#pyspark.RDD)"
   ]
  },
  {
   "cell_type": "markdown",
   "metadata": {},
   "source": [
    "### Function `count_elements_in_dataset`"
   ]
  },
  {
   "cell_type": "markdown",
   "metadata": {},
   "source": [
    "Lets start with some initial analysis. \n",
    "\n",
    "**How many elements are in your datasets?**\n"
   ]
  },
  {
   "cell_type": "code",
   "execution_count": 6,
   "metadata": {},
   "outputs": [
    {
     "name": "stdout",
     "output_type": "stream",
     "text": [
      "1333789\n"
     ]
    }
   ],
   "source": [
    "def count_elements_in_dataset(set):\n",
    "    return set.count()\n",
    "\n",
    "print(count_elements_in_dataset(dataset))\n"
   ]
  },
  {
   "cell_type": "markdown",
   "metadata": {},
   "source": [
    "### Function `get_first_element`"
   ]
  },
  {
   "cell_type": "markdown",
   "metadata": {},
   "source": [
    "**What does the first element look like? Assign the result to a variable called `first` **\n"
   ]
  },
  {
   "cell_type": "code",
   "execution_count": 7,
   "metadata": {},
   "outputs": [
    {
     "name": "stdout",
     "output_type": "stream",
     "text": [
      "{'author': 'TuxLyn', 'created_at': '2014-05-29T08:25:40Z', 'created_at_i': 1401351940, 'num_comments': 0, 'objectID': '7815290', 'points': 1, 'title': 'DuckDuckGo Settings', 'url': 'https://duckduckgo.com/settings'}\n"
     ]
    }
   ],
   "source": [
    "def get_first_element(set):\n",
    "    return set.first()\n",
    "first = get_first_element(dataset)\n",
    "print (first)"
   ]
  },
  {
   "cell_type": "markdown",
   "metadata": {},
   "source": [
    "### Function `get_all_attributes`"
   ]
  },
  {
   "cell_type": "markdown",
   "metadata": {},
   "source": [
    "Each element is a dictionary of attributes and their values for a post. \n",
    "**Can you find the set of all attributes used throughout the RDD?**\n",
    "The function `dictionary.keys()` gives you the list of attributes of a dictionary."
   ]
  },
  {
   "cell_type": "code",
   "execution_count": 8,
   "metadata": {},
   "outputs": [
    {
     "name": "stdout",
     "output_type": "stream",
     "text": [
      "{'story_text', 'objectID', 'story_id', 'created_at_i', 'created_at', 'title', 'points', 'num_comments', 'author', 'url'}\n"
     ]
    }
   ],
   "source": [
    "def get_all_attributes(dictlist):\n",
    "    element_attributes_list = dictlist.map(lambda x: set(list(x.keys())))\n",
    "    all_attributes = element_attributes_list.reduce(lambda set1, set2: set1.union(set2))\n",
    "    return all_attributes\n",
    "\n",
    "attributes = get_all_attributes(dataset)\n",
    "print (attributes)"
   ]
  },
  {
   "cell_type": "markdown",
   "metadata": {},
   "source": [
    "Function `get_elements_w_same_attributes`"
   ]
  },
  {
   "cell_type": "markdown",
   "metadata": {},
   "source": [
    "We see that there are more attributes than just the one used in the first element. Can you filter the dataset to keep only elements that have the same set of attributes as the first element?\n",
    "Hint: you might want to write a function that compares attributes for two elements and apply it on your dataset."
   ]
  },
  {
   "cell_type": "code",
   "execution_count": 9,
   "metadata": {},
   "outputs": [
    {
     "name": "stdout",
     "output_type": "stream",
     "text": [
      "[{'author': 'TuxLyn', 'created_at': '2014-05-29T08:25:40Z', 'created_at_i': 1401351940, 'num_comments': 0, 'objectID': '7815290', 'points': 1, 'title': 'DuckDuckGo Settings', 'url': 'https://duckduckgo.com/settings'}, {'author': 'Leynos', 'created_at': '2014-05-29T08:23:46Z', 'created_at_i': 1401351826, 'num_comments': 0, 'objectID': '7815285', 'points': 1, 'title': 'Making Twitter Easier to Use', 'url': 'http://bits.blogs.nytimes.com/2014/05/28/making-twitter-easier-to-use/'}, {'author': 'darrhiggs', 'created_at': '2014-05-29T08:21:56Z', 'created_at_i': 1401351716, 'num_comments': 0, 'objectID': '7815279', 'points': 2, 'title': 'London refers Uber app row to High Court', 'url': 'http://www.bbc.co.uk/news/technology-27617079'}, {'author': 'a159482a', 'created_at': '2014-05-29T08:18:42Z', 'created_at_i': 1401351522, 'num_comments': 1, 'objectID': '7815274', 'points': 1, 'title': ' Young Global Leaders, who should be nominated? (World Economic Forum)', 'url': 'http://nomination.younggloballeaders.org/nominationform.aspx'}, {'author': 'johngorse', 'created_at': '2014-05-29T08:17:30Z', 'created_at_i': 1401351450, 'num_comments': 0, 'objectID': '7815273', 'points': 1, 'title': 'Blooki.st goes BETA in a few hours', 'url': 'https://blooki.st'}, {'author': 'dveeden2', 'created_at': '2014-05-29T08:13:23Z', 'created_at_i': 1401351203, 'num_comments': 0, 'objectID': '7815255', 'points': 1, 'title': 'Unicode Security Data: Beta Review', 'url': 'http://unicode-inc.blogspot.nl/2014/05/unicode-security-data-beta-review.html'}, {'author': 'JensRantil', 'created_at': '2014-05-29T08:11:53Z', 'created_at_i': 1401351113, 'num_comments': 0, 'objectID': '7815249', 'points': 2, 'title': 'FileMap: MapReduce on the CLI', 'url': 'https://github.com/mfisk/filemap'}, {'author': 'theplaz', 'created_at': '2014-05-29T08:11:35Z', 'created_at_i': 1401351095, 'num_comments': 1, 'objectID': '7815248', 'points': 1, 'title': '[Full Video] NBC News Interview with Edward Snowden', 'url': 'http://www.nbcnews.com/feature/edward-snowden-interview/watch-primetime-special-inside-mind-edward-snowden-n117126#'}, {'author': 'connochristou', 'created_at': '2014-05-29T08:10:51Z', 'created_at_i': 1401351051, 'num_comments': 0, 'objectID': '7815247', 'points': 1, 'title': 'Hybrid App Monetization Example with Mobile Ads and In-App Purchases', 'url': 'http://www.avocarrot.com/blog/hybrid-app-monetization-example-mobile-ads-app-purchases/'}, {'author': 'stremovsky', 'created_at': '2014-05-29T08:09:46Z', 'created_at_i': 1401350986, 'num_comments': 0, 'objectID': '7815245', 'points': 1, 'title': 'We need oppinion from Android Developers', 'url': 'https://droidresearch.wufoo.com/forms/windows-mobile-test/'}]\n"
     ]
    }
   ],
   "source": [
    "def get_elements_w_same_attributes(dataset):\n",
    "\n",
    "    def set_equal(a,b):\n",
    "        return (a<=b and a>=b)\n",
    "  \n",
    "    def attribute_set(dictelt):\n",
    "        return (set(list(dictelt.keys())))\n",
    "        \n",
    "    def filter_by_attribute_set(dataset, att_set):\n",
    "        return dataset.filter(lambda x: set_equal(attribute_set(x), att_set))\n",
    "\n",
    "    return filter_by_attribute_set(dataset, attribute_set(dataset.first()))  \n",
    "\n",
    "#print (filtered_by_first_element_attributes.take(10))\n",
    "print (get_elements_w_same_attributes(dataset).take(10))\n",
    "    "
   ]
  },
  {
   "cell_type": "markdown",
   "metadata": {},
   "source": [
    "How many elements did you find?"
   ]
  },
  {
   "cell_type": "markdown",
   "metadata": {},
   "source": [
    "### How many posts through time"
   ]
  },
  {
   "cell_type": "markdown",
   "metadata": {},
   "source": [
    "The field `created_at_i` is very useful, it gives you a UNIX timestamp of the time at which the file was created. The following function lets you extract a time from a timestamp."
   ]
  },
  {
   "cell_type": "code",
   "execution_count": 10,
   "metadata": {},
   "outputs": [],
   "source": [
    "def extract_time(timestamp):\n",
    "    return dt.utcfromtimestamp(timestamp)"
   ]
  },
  {
   "cell_type": "markdown",
   "metadata": {},
   "source": [
    "### Function `get_min_max_timestamps`"
   ]
  },
  {
   "cell_type": "markdown",
   "metadata": {},
   "source": [
    "**Find the minimum and maximum timestamps in the RDD and call them `min_time` and `max_time`.** \n",
    "These correspond to the first and last post, when did they occur? For the function `get_min_max_timestamps` you need to return min_time and max_time given a dataset"
   ]
  },
  {
   "cell_type": "code",
   "execution_count": 11,
   "metadata": {},
   "outputs": [
    {
     "name": "stdout",
     "output_type": "stream",
     "text": [
      "(1160418111, 1401351940)\n"
     ]
    }
   ],
   "source": [
    "# Find the minimum timestamp\n",
    "def extract_timestamps(dictlist):\n",
    "    return dictlist.map(lambda x: x.get('created_at_i',None))\n",
    "\n",
    "#print (extract_timestamps(dataset).first())\n",
    "\n",
    "def get_min_max_timestamps(dictlist):\n",
    "    timestamps = extract_timestamps(dictlist)\n",
    "    min_time = timestamps.reduce(lambda x, y: min(x,y))\n",
    "    max_time = timestamps.reduce(lambda x, y: max(x,y))\n",
    "    return min_time, max_time\n",
    "\n",
    "print (get_min_max_timestamps(dataset))\n",
    "\n"
   ]
  },
  {
   "cell_type": "code",
   "execution_count": null,
   "metadata": {},
   "outputs": [],
   "source": [
    "# Find the max timestamp\n"
   ]
  },
  {
   "cell_type": "markdown",
   "metadata": {},
   "source": [
    "### Function `get_number_of_posts_per_bucket`"
   ]
  },
  {
   "cell_type": "markdown",
   "metadata": {},
   "source": [
    "Now lets analyse how many elements through time. The following function assigns a record to one of 200 \"buckets\" of time. **Use it to count the number of elements that fall within each bucket and call the result `bucket_rdd`.** The result should be such that `buckets` below generates the corresponding output. If you want to use this function in your `spark_rdd.py` you will need to redefine it in the file."
   ]
  },
  {
   "cell_type": "code",
   "execution_count": 12,
   "metadata": {},
   "outputs": [],
   "source": [
    "def get_bucket(rec, min_timestamp, max_timestamp):\n",
    "    interval = (max_timestamp - min_timestamp + 1) / 200.0\n",
    "    return int((rec['created_at_i'] - min_timestamp)/interval)"
   ]
  },
  {
   "cell_type": "code",
   "execution_count": 13,
   "metadata": {},
   "outputs": [
    {
     "name": "stdout",
     "output_type": "stream",
     "text": [
      "PythonRDD[16] at RDD at PythonRDD.scala:53\n"
     ]
    }
   ],
   "source": [
    "#def buckets_rdd(dictlist):\n",
    "#    dictlist.map(x: (get_bucket))\n",
    "    \n",
    "    \n",
    "def get_number_of_posts_per_bucket(dataset):\n",
    "    \n",
    "    def get_bucket(rec, min_timestamp, max_timestamp):\n",
    "        interval = (max_timestamp - min_timestamp + 1) / 200.0\n",
    "        return int((rec['created_at_i'] - min_timestamp)/interval)\n",
    "        \n",
    "    result = get_min_max_timestamps(dataset)\n",
    "    min_timestamp = result[0]\n",
    "    max_timestamp = result[1]\n",
    "    return dataset.map(lambda x: (get_bucket(x, min_timestamp, max_timestamp),1)).reduceByKey(lambda a, b: a + b)\n",
    "\n",
    "buckets_rdd = get_number_of_posts_per_bucket(dataset)\n",
    "\n",
    "print (buckets_rdd)\n"
   ]
  },
  {
   "cell_type": "code",
   "execution_count": 14,
   "metadata": {},
   "outputs": [
    {
     "name": "stdout",
     "output_type": "stream",
     "text": [
      "[(0, 46), (4, 1), (9, 270), (10, 763), (11, 762), (12, 211), (13, 1059), (14, 1078), (15, 957), (16, 749), (17, 721), (18, 685), (19, 664), (20, 831), (21, 1082), (22, 1152), (23, 1232), (24, 1191), (25, 1218), (26, 652), (33, 1134), (34, 1924), (35, 2047), (36, 1982), (37, 2453), (38, 2643), (39, 2487), (40, 2579), (41, 2630), (42, 2652), (43, 2805), (44, 2822), (45, 2975), (46, 3010), (47, 3031), (48, 2865), (49, 3018), (50, 3000), (51, 3301), (52, 3222), (53, 3166), (54, 3056), (55, 2967), (56, 3194), (57, 2660), (58, 2987), (59, 3575), (60, 3883), (61, 3733), (62, 3673), (63, 3901), (64, 3787), (65, 3653), (66, 4135), (67, 3977), (68, 3881), (69, 3998), (70, 3867), (71, 777), (83, 2534), (84, 4009), (85, 5552), (86, 6084), (87, 6297), (88, 6271), (89, 6040), (90, 5742), (91, 5761), (92, 6537), (93, 6656), (94, 6769), (95, 6262), (96, 6258), (97, 6132), (98, 6525), (99, 6606), (100, 6717), (101, 6972), (102, 6887), (103, 7602), (104, 7982), (105, 7979), (106, 8462), (107, 8614), (108, 8275), (109, 8906), (110, 7132), (111, 8911), (112, 9337), (113, 9607), (114, 9600), (115, 9900), (116, 10470), (117, 10119), (118, 9597), (119, 9655), (120, 9712), (121, 9830), (122, 9991), (123, 10204), (124, 10255), (125, 11317), (126, 11781), (127, 11885), (128, 12401), (129, 13721), (130, 14036), (131, 13075), (132, 14150), (133, 14764), (134, 14109), (135, 12479), (136, 10702), (137, 12640), (138, 12814), (139, 12473), (140, 12196), (141, 12648), (142, 13716), (143, 13901), (144, 13744), (145, 13326), (146, 13185), (147, 13154), (148, 12238), (149, 12071), (150, 12332), (151, 12595), (152, 12359), (153, 10498), (154, 10227), (155, 10690), (156, 10448), (157, 10243), (158, 10223), (159, 10833), (160, 10646), (161, 11609), (162, 9083), (163, 10618), (164, 11768), (165, 12578), (166, 12250), (167, 12586), (168, 12649), (169, 12110), (170, 11937), (171, 11748), (172, 11597), (173, 11520), (174, 12664), (175, 11998), (176, 11326), (177, 11441), (178, 11410), (179, 11573), (180, 11123), (181, 11644), (182, 11834), (183, 11538), (184, 12059), (185, 12712), (186, 11263), (187, 10617), (188, 9082), (189, 8761), (190, 10514), (191, 10521), (192, 10236), (193, 10370), (194, 10224), (195, 11424), (196, 10015), (197, 9686), (198, 9617), (199, 8939)]\n"
     ]
    }
   ],
   "source": [
    "buckets = sorted(buckets_rdd.collect())\n",
    "print (buckets)"
   ]
  },
  {
   "cell_type": "markdown",
   "metadata": {},
   "source": [
    "We can then use this to plot the number of submitted posts over time."
   ]
  },
  {
   "cell_type": "code",
   "execution_count": 15,
   "metadata": {
    "scrolled": false
   },
   "outputs": [
    {
     "data": {
      "text/plain": [
       "[<matplotlib.lines.Line2D at 0x233ef625198>]"
      ]
     },
     "execution_count": 15,
     "metadata": {},
     "output_type": "execute_result"
    },
    {
     "data": {
      "image/png": "[encoded data removed]",
      "text/plain": [
       "<Figure size 432x288 with 1 Axes>"
      ]
     },
     "metadata": {
      "needs_background": "light"
     },
     "output_type": "display_data"
    }
   ],
   "source": [
    "min_max_timestamps = (get_min_max_timestamps(dataset))\n",
    "interval = (min_max_timestamps[1] - min_max_timestamps[0] + 1) / 200.0\n",
    "bs = [dt.utcfromtimestamp(x[0]*interval + min_max_timestamps[0]) for x in buckets]\n",
    "ts = [x[1] for x in buckets]\n",
    "plt.plot(bs, ts)"
   ]
  },
  {
   "cell_type": "markdown",
   "metadata": {},
   "source": [
    "### Function `get_number_of_posts_per_hour`"
   ]
  },
  {
   "cell_type": "markdown",
   "metadata": {
    "collapsed": true
   },
   "source": [
    "The following function gets the hour of the day at which a post was submitted. **Use it to find the number of posts submitted at each hour of the day.** The value of `hours_buckets` should match the one printed below."
   ]
  },
  {
   "cell_type": "code",
   "execution_count": 16,
   "metadata": {},
   "outputs": [],
   "source": [
    "def get_hour(rec):\n",
    "    t = dt.utcfromtimestamp(rec['created_at_i'])\n",
    "    return t.hour"
   ]
  },
  {
   "cell_type": "code",
   "execution_count": 17,
   "metadata": {},
   "outputs": [],
   "source": [
    "def get_number_of_posts_per_hour(dataset):\n",
    "    \"\"\"\n",
    "    Using the `get_hour` function defined in the notebook (redefine it in this file), this function should return a\n",
    "    new RDD that contains the number of elements per hour.\n",
    "    :param dataset: dataset loaded in Spark context\n",
    "    :type dataset: a Spark RDD\n",
    "    :return: an RDD with number of elements per hour\n",
    "    \"\"\"\n",
    "    return dataset.map(lambda x: (get_hour(x),1)).reduceByKey(lambda a, b: a + b)    \n",
    "\n",
    "\n",
    "hours_buckets_rdd = get_number_of_posts_per_hour(dataset)\n",
    "\n",
    "#print (hours_buckets_rdd)"
   ]
  },
  {
   "cell_type": "code",
   "execution_count": 18,
   "metadata": {},
   "outputs": [],
   "source": [
    "#hours_buckets = sorted(hours_buckets_rdd.collect())\n",
    "\n",
    "hours_buckets = sorted(hours_buckets_rdd.collect())\n",
    "\n",
    "#print (hours_buckets)"
   ]
  },
  {
   "cell_type": "code",
   "execution_count": 19,
   "metadata": {
    "scrolled": false
   },
   "outputs": [
    {
     "data": {
      "text/plain": [
       "[<matplotlib.lines.Line2D at 0x233efe39390>]"
      ]
     },
     "execution_count": 19,
     "metadata": {},
     "output_type": "execute_result"
    },
    {
     "data": {
      "image/png": "[encoded data removed]",
      "text/plain": [
       "<Figure size 432x288 with 1 Axes>"
      ]
     },
     "metadata": {
      "needs_background": "light"
     },
     "output_type": "display_data"
    }
   ],
   "source": [
    "hrs = [x[0] for x in hours_buckets]\n",
    "sz = [x[1] for x in hours_buckets]\n",
    "plt.plot(hrs, sz)"
   ]
  },
  {
   "cell_type": "markdown",
   "metadata": {},
   "source": [
    "### Function `get_score_per_hour`"
   ]
  },
  {
   "cell_type": "markdown",
   "metadata": {},
   "source": [
    "The number of points scored by a post is under the attribute `points`. **Use it to compute the average score received by submissions for each hour.**"
   ]
  },
  {
   "cell_type": "code",
   "execution_count": 20,
   "metadata": {},
   "outputs": [],
   "source": [
    "def get_score_per_hour(dataset):\n",
    "    \n",
    "    def get_score_per_hour_accumulator(dataset):\n",
    "        return dataset.map(lambda x: (get_hour(x),(x['points'],1))).reduceByKey(lambda a, b: ((a[0] + b[0]),(a[1] + b[1])))\n",
    "        \n",
    "    return get_score_per_hour_accumulator(dataset).map(lambda x: (x[0], (x[1][0]/x[1][1])))\n",
    "                        \n",
    "scores_per_hour_rdd = get_score_per_hour(dataset)"
   ]
  },
  {
   "cell_type": "code",
   "execution_count": 21,
   "metadata": {},
   "outputs": [],
   "source": [
    "scores_per_hour = sorted(scores_per_hour_rdd.collect())"
   ]
  },
  {
   "cell_type": "code",
   "execution_count": 22,
   "metadata": {},
   "outputs": [
    {
     "data": {
      "text/plain": [
       "[<matplotlib.lines.Line2D at 0x233efe9b908>]"
      ]
     },
     "execution_count": 22,
     "metadata": {},
     "output_type": "execute_result"
    },
    {
     "data": {
      "image/png": "[encoded data removed]",
      "text/plain": [
       "<Figure size 432x288 with 1 Axes>"
      ]
     },
     "metadata": {
      "needs_background": "light"
     },
     "output_type": "display_data"
    }
   ],
   "source": [
    "hrs = [x[0] for x in scores_per_hour]\n",
    "sz = [x[1] for x in scores_per_hour]\n",
    "plt.plot(hrs, sz)"
   ]
  },
  {
   "cell_type": "markdown",
   "metadata": {},
   "source": [
    "### Function `get_proportion_of_scores`"
   ]
  },
  {
   "cell_type": "markdown",
   "metadata": {},
   "source": [
    "It may be more useful to look at sucessful posts that get over 200 points. **Find the proportion of posts that get above 200 points per hour.**"
   ]
  },
  {
   "cell_type": "code",
   "execution_count": 24,
   "metadata": {},
   "outputs": [],
   "source": [
    "def get_success_prop_per_hour(dataset):\n",
    "    \n",
    "    def get_successes_per_hour_accumulator(dataset):\n",
    "        return dataset.map(lambda x: (get_hour(x),(int(x['points']>200),1))).reduceByKey(lambda a, b: ((a[0] + b[0]),(a[1] + b[1])))\n",
    "\n",
    "    return get_successes_per_hour_accumulator(dataset).map(lambda x: (x[0], (x[1][0]/x[1][1])))\n",
    "                        \n",
    "prop_per_hour_rdd = get_success_prop_per_hour(dataset)"
   ]
  },
  {
   "cell_type": "code",
   "execution_count": 25,
   "metadata": {},
   "outputs": [],
   "source": [
    "prop_per_hour = sorted(prop_per_hour_rdd.collect())"
   ]
  },
  {
   "cell_type": "code",
   "execution_count": 27,
   "metadata": {},
   "outputs": [
    {
     "data": {
      "text/plain": [
       "[<matplotlib.lines.Line2D at 0x233eff55860>]"
      ]
     },
     "execution_count": 27,
     "metadata": {},
     "output_type": "execute_result"
    },
    {
     "data": {
      "image/png": "[encoded data removed]",
      "text/plain": [
       "<Figure size 432x288 with 1 Axes>"
      ]
     },
     "metadata": {
      "needs_background": "light"
     },
     "output_type": "display_data"
    }
   ],
   "source": [
    "hrs = [x[0] for x in prop_per_hour]\n",
    "sz = [x[1] for x in prop_per_hour]\n",
    "plt.plot(hrs, sz)"
   ]
  },
  {
   "cell_type": "markdown",
   "metadata": {},
   "source": [
    "### Function `get_proportion_of_success`"
   ]
  },
  {
   "cell_type": "markdown",
   "metadata": {},
   "source": [
    "The following function lists the word in the title. **Use it to count the number of words in the title of each post, and look at the proportion of successful posts for each title length.**\n",
    "\n",
    "If an element does not have a title, it should count it as a length of 0."
   ]
  },
  {
   "cell_type": "code",
   "execution_count": 31,
   "metadata": {},
   "outputs": [],
   "source": [
    "import re\n",
    "def get_words(line):\n",
    "    return re.compile('\\w+').findall(line)"
   ]
  },
  {
   "cell_type": "code",
   "execution_count": 36,
   "metadata": {},
   "outputs": [],
   "source": [
    "def get_successes_per_title_length_accumulator(dataset):\n",
    "    return dataset.map(lambda x: (len(get_words(x.get('title',\"\"))),(int(x['points']>200),1))).reduceByKey(lambda a, b: ((a[0] + b[0]),(a[1] + b[1])))\n",
    "    \n",
    "def get_success_prop_per_title_length(dataset):\n",
    "    return get_successes_per_title_length_accumulator(dataset).map(lambda x: (x[0], (x[1][0]/x[1][1])))\n",
    "                        \n",
    "#prop_per_title_length_rdd = get_success_prop_per_title_length(dataset)\n",
    "prop_per_title_length_rdd = get_success_prop_per_title_length(dataset)\n",
    "\n",
    "\n"
   ]
  },
  {
   "cell_type": "code",
   "execution_count": 37,
   "metadata": {},
   "outputs": [],
   "source": [
    "prop_per_title_length = sorted(prop_per_title_length_rdd.collect())"
   ]
  },
  {
   "cell_type": "code",
   "execution_count": 38,
   "metadata": {},
   "outputs": [
    {
     "data": {
      "text/plain": [
       "[<matplotlib.lines.Line2D at 0x233f0083390>]"
      ]
     },
     "execution_count": 38,
     "metadata": {},
     "output_type": "execute_result"
    },
    {
     "data": {
      "image/png": "[encoded data removed]",
      "text/plain": [
       "<Figure size 432x288 with 1 Axes>"
      ]
     },
     "metadata": {
      "needs_background": "light"
     },
     "output_type": "display_data"
    }
   ],
   "source": [
    "hrs = [x[0] for x in prop_per_title_length]\n",
    "sz = [x[1] for x in prop_per_title_length]\n",
    "plt.plot(hrs, sz)"
   ]
  },
  {
   "cell_type": "markdown",
   "metadata": {},
   "source": [
    "### Function `get_title_length_distribution`"
   ]
  },
  {
   "cell_type": "markdown",
   "metadata": {},
   "source": [
    "Lets compare this with the distribution of number of words. **Count for each title length the number of submissions with that length.**"
   ]
  },
  {
   "cell_type": "code",
   "execution_count": 39,
   "metadata": {},
   "outputs": [],
   "source": [
    "def get_title_length_distribution(dataset):\n",
    "    return get_successes_per_title_length_accumulator(dataset).map(lambda x: (x[0], x[1][1]))\n",
    "    \n",
    "submissions_per_length_rdd = get_title_length_distribution(dataset)\n",
    "    \n",
    "    "
   ]
  },
  {
   "cell_type": "code",
   "execution_count": 40,
   "metadata": {},
   "outputs": [],
   "source": [
    "submissions_per_length = sorted(submissions_per_length_rdd.collect())"
   ]
  },
  {
   "cell_type": "code",
   "execution_count": 42,
   "metadata": {},
   "outputs": [
    {
     "data": {
      "text/plain": [
       "[<matplotlib.lines.Line2D at 0x233f01522e8>]"
      ]
     },
     "execution_count": 42,
     "metadata": {},
     "output_type": "execute_result"
    },
    {
     "data": {
      "image/png": "[encoded data removed]",
      "text/plain": [
       "<Figure size 432x288 with 1 Axes>"
      ]
     },
     "metadata": {
      "needs_background": "light"
     },
     "output_type": "display_data"
    }
   ],
   "source": [
    "hrs = [x[0] for x in submissions_per_length]\n",
    "sz = [x[1] for x in submissions_per_length]\n",
    "plt.plot(hrs, sz)"
   ]
  },
  {
   "cell_type": "markdown",
   "metadata": {},
   "source": [
    "Looks like most people are getting it wrong!"
   ]
  },
  {
   "cell_type": "markdown",
   "metadata": {},
   "source": [
    "### Optional"
   ]
  },
  {
   "cell_type": "markdown",
   "metadata": {
    "collapsed": true
   },
   "source": [
    "For this task, you will need a new function: `takeOrdered()`. Like `take()` it collects elements from an RDD. However, it can be applied to take the smallest elements. For example, `takeOrdered(10)` returns the 10 smallest elements. Furthermore, you can pass it a function to specify the way in which the elements should be ordered. For example, `takeOrdered(10, lambda x: -x)` will return the 10 largest elements.\n",
    "\n",
    "The function below extracts the url domain out of a record. **Use it to count the number of distinct domains posted to.**"
   ]
  },
  {
   "cell_type": "code",
   "execution_count": 119,
   "metadata": {
    "scrolled": true
   },
   "outputs": [
    {
     "name": "stdout",
     "output_type": "stream",
     "text": [
      "duckduckgo.com\n"
     ]
    }
   ],
   "source": [
    "from urllib.parse import urlparse\n",
    "def get_domain(rec):\n",
    "    url = urlparse(rec['url']).netloc\n",
    "    if url[0:4] == 'www.':\n",
    "        return url[4:]\n",
    "    else:\n",
    "        return url\n",
    "print(get_domain(dataset.take(1)[0]))"
   ]
  },
  {
   "cell_type": "code",
   "execution_count": null,
   "metadata": {},
   "outputs": [],
   "source": [
    "# Count the number of distinct domains\n"
   ]
  },
  {
   "cell_type": "markdown",
   "metadata": {},
   "source": [
    "Using `takeOrdered()` find the 25 most popular domains posted to."
   ]
  },
  {
   "cell_type": "code",
   "execution_count": null,
   "metadata": {},
   "outputs": [],
   "source": []
  },
  {
   "cell_type": "code",
   "execution_count": null,
   "metadata": {},
   "outputs": [],
   "source": [
    "print(top25)"
   ]
  },
  {
   "cell_type": "code",
   "execution_count": null,
   "metadata": {},
   "outputs": [],
   "source": [
    "index = np.arange(25)\n",
    "labels = [x[0] for x in top25]\n",
    "counts = np.array([x[1] for x in top25]) * 100.0/dataset.count()\n",
    "plt.xticks(index,labels, rotation='vertical')\n",
    "plt.bar(index, counts, 0.5)"
   ]
  }
 ],
 "metadata": {
  "kernelspec": {
   "display_name": "Python 3",
   "language": "python",
   "name": "python3"
  },
  "language_info": {
   "codemirror_mode": {
    "name": "ipython",
    "version": 3
   },
   "file_extension": ".py",
   "mimetype": "text/x-python",
   "name": "python",
   "nbconvert_exporter": "python",
   "pygments_lexer": "ipython3",
   "version": "3.7.3"
  }
 },
 "nbformat": 4,
 "nbformat_minor": 1
}
